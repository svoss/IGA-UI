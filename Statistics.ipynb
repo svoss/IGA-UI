{
 "cells": [
  {
   "cell_type": "markdown",
   "metadata": {},
   "source": [
    "The required imports and some initializations."
   ]
  },
  {
   "cell_type": "code",
   "execution_count": 1,
   "metadata": {
    "collapsed": false
   },
   "outputs": [
    {
     "name": "stdout",
     "output_type": "stream",
     "text": [
      "account 5318270\n",
      "property <type 'property'>\n",
      "profile 120892623\n",
      "variations {'x8DtGwZYTyq2eWG8m5UK7Q': ['0-0-2-2-2-0-2-0', '1-0-1-1-0-1-0-0', '0-1-2-2-1-2-2-1', '1-1-3-0-0-1-0-1', '1-0-3-0-0-2-1-1'], 'r9vplR-kQ8aZ1TsK8ZmbbQ': ['0-0-2-2-2-0-2-0', '0-0-2-2-2-1-0-0', '1-0-1-1-0-0-2-0'], 'QHECYoMqQ1CrrHcIF_D50w': ['0-0-2-2-2-0-2-0', '1-0-3-0-0-2-0-1'], 'CYvpnCUtTPWx9ZfxZYlUow': ['0-0-2-2-2-0-2-0', '0-0-2-1-0-0-2-0', '1-0-1-2-2-1-0-0'], 'zQYn4S5ZR1mDiD75IC22KA': ['0-0-2-2-2-0-2-0', '1-1-2-1-1-2-1-1', '1-1-3-1-1-2-2-0', '1-0-1-1-0-0-2-1', '1-0-1-1-1-2-0-1']}\n"
     ]
    }
   ],
   "source": [
    "from google_analytics import *\n",
    "\n",
    "# Define the auth scopes to request.\n",
    "scope = ['https://www.googleapis.com/auth/analytics.readonly']\n",
    "\n",
    "# Use the developer console and replace the values with your\n",
    "# service account email and relative location of your key file.\n",
    "key_file_location = get_service_key_path('example')\n",
    "\n",
    "# Authenticate and construct service.\n",
    "service = get_service('analytics', 'v3', scope, key_file_location)\n",
    "experiments = get_experiments(service)\n",
    "\n",
    "# Retrieve information\n",
    "var_names = {}\n",
    "for exp in experiments['items']:\n",
    "    exp_id = str(exp['id'])\n",
    "    var_names[exp_id] = [str(item['name']) for item in exp['variations']]\n",
    "print 'variations', var_names"
   ]
  },
  {
   "cell_type": "markdown",
   "metadata": {},
   "source": [
    "Starting from a certain point in time, retrieve per-day data and store it in memory."
   ]
  },
  {
   "cell_type": "code",
   "execution_count": 21,
   "metadata": {
    "collapsed": false
   },
   "outputs": [
    {
     "name": "stdout",
     "output_type": "stream",
     "text": [
      "account 5318270\n",
      "property <type 'property'>\n",
      "profile 120892623\n"
     ]
    }
   ],
   "source": [
    "import datetime\n",
    "\n",
    "data = {}\n",
    "date = datetime.datetime.strptime('2016-04-25', \"%Y-%m-%d\")\n",
    "profile = get_first_profile_id(service)\n",
    "\n",
    "for i in range(15):\n",
    "    datestr = date.strftime('%Y-%m-%d')\n",
    "    date += datetime.timedelta(hours=1)\n",
    "\n",
    "    results = get_results(service, profile, metrics='ga:exitRate,ga:sessions', dimensions='ga:experimentVariant,ga:experimentId', start_date=datestr, end_date=datestr)\n",
    "    for row in results['rows']:\n",
    "        exp_var, exp_id, bounce_rate,sessions = row\n",
    "        exp_id = str(exp_id)\n",
    "        bounce_rate = float(bounce_rate) / 100.\n",
    "        if exp_id not in data:\n",
    "            data[exp_id] = {}\n",
    "        exp_var = var_names[exp_id][int(exp_var)]\n",
    "        if exp_var not in data[exp_id]:\n",
    "            data[exp_id][exp_var] = {\n",
    "                'dates': [],\n",
    "                'data': [],\n",
    "                'sessions': []\n",
    "            }\n",
    "        data[exp_id][exp_var]['dates'].append(date)\n",
    "        data[exp_id][exp_var]['data'].append(bounce_rate)\n",
    "        data[exp_id][exp_var]['sessions'].append(sessions)"
   ]
  },
  {
   "cell_type": "markdown",
   "metadata": {},
   "source": [
    "Give some insights per experiment. It will display the number of datapoints per variation per experiment."
   ]
  },
  {
   "cell_type": "code",
   "execution_count": 22,
   "metadata": {
    "collapsed": false
   },
   "outputs": [
    {
     "name": "stdout",
     "output_type": "stream",
     "text": [
      "('zQYn4S5ZR1mDiD75IC22KA', '1-1-2-1-1-2-1-1', 15)\n",
      "('zQYn4S5ZR1mDiD75IC22KA', '1-0-1-1-1-2-0-1', 15)\n",
      "('zQYn4S5ZR1mDiD75IC22KA', '0-0-2-2-2-0-2-0', 15)\n",
      "('zQYn4S5ZR1mDiD75IC22KA', '1-0-1-1-0-0-2-1', 15)\n",
      "('zQYn4S5ZR1mDiD75IC22KA', '1-1-3-1-1-2-2-0', 15)\n"
     ]
    }
   ],
   "source": [
    "for experiment in data:\n",
    "    for variation in data[experiment]:\n",
    "        print(experiment, variation, len(data[experiment][variation]['dates']))"
   ]
  },
  {
   "cell_type": "markdown",
   "metadata": {},
   "source": [
    "Make the plots!"
   ]
  },
  {
   "cell_type": "code",
   "execution_count": 23,
   "metadata": {
    "collapsed": false
   },
   "outputs": [
    {
     "data": {
      "image/png": "[encoded data removed]",
      "text/plain": [
       "<matplotlib.figure.Figure at 0x115d9b190>"
      ]
     },
     "metadata": {},
     "output_type": "display_data"
    }
   ],
   "source": [
    "import matplotlib.pyplot as plt\n",
    "from matplotlib.dates import DateFormatter\n",
    "% matplotlib inline\n",
    "\n",
    "for experiment in data:\n",
    "    fig, ax = plt.subplots()\n",
    "    ax.fmt_xdata = DateFormatter('%Y-%m-%d')\n",
    "    for variation in data[experiment]:\n",
    "        ax.plot(data[experiment][variation]['dates'], data[experiment][variation]['data'], label=variation)\n",
    "    ax.set_ylabel('ExitRate')\n",
    "    ax.set_xlabel('Date')\n",
    "    ax.set_title(experiment)\n",
    "    bx = ax.twinx()\n",
    "    for variation in data[experiment]:\n",
    "        bx.plot(data[experiment][variation]['dates'], data[experiment][variation]['sessions'], label=variation, ls='--')\n",
    "    bx.set_ylabel('Sessions')\n",
    "    fig.autofmt_xdate()\n",
    "    ax.legend(bbox_to_anchor=(1.6, 1.05))\n",
    "    plt.show()"
   ]
  },
  {
   "cell_type": "code",
   "execution_count": null,
   "metadata": {
    "collapsed": true
   },
   "outputs": [],
   "source": []
  }
 ],
 "metadata": {
  "kernelspec": {
   "display_name": "Python 2",
   "language": "python",
   "name": "python2"
  },
  "language_info": {
   "codemirror_mode": {
    "name": "ipython",
    "version": 2
   },
   "file_extension": ".py",
   "mimetype": "text/x-python",
   "name": "python",
   "nbconvert_exporter": "python",
   "pygments_lexer": "ipython2",
   "version": "2.7.11"
  }
 },
 "nbformat": 4,
 "nbformat_minor": 0
}
